{
 "cells": [
  {
   "cell_type": "code",
   "execution_count": 15,
   "metadata": {},
   "outputs": [],
   "source": [
    "from openai import AzureOpenAI\n",
    "import time\n",
    "\n",
    "import os \n",
    "\n",
    "import html\n",
    "import io\n",
    "import time\n",
    "from datetime import datetime\n",
    "from pathlib import Path\n",
    "from typing import Iterable"
   ]
  },
  {
   "cell_type": "code",
   "execution_count": 11,
   "metadata": {},
   "outputs": [],
   "source": [
    "from openai import AzureOpenAI\n",
    "from openai.types import FileObject\n",
    "from openai.types.beta import Thread\n",
    "from openai.types.beta.threads import Run\n",
    "# from openai.types.beta.threads.message_content_image_file import MessageContentImageFile\n",
    "# from openai.types.beta.threads.message_content_text import MessageContentText\n",
    "from openai.types.beta.threads.messages import MessageFile"
   ]
  },
  {
   "cell_type": "code",
   "execution_count": 12,
   "metadata": {},
   "outputs": [
    {
     "data": {
      "text/plain": [
       "True"
      ]
     },
     "execution_count": 12,
     "metadata": {},
     "output_type": "execute_result"
    }
   ],
   "source": [
    "#load environment variables\n",
    "from dotenv import load_dotenv\n",
    "load_dotenv()"
   ]
  },
  {
   "cell_type": "code",
   "execution_count": 13,
   "metadata": {},
   "outputs": [],
   "source": [
    "api_base = os.environ['api_base']\n",
    "api_key = os.environ['api_key']\n",
    "deployment_name = os.environ['deployment_name']"
   ]
  },
  {
   "cell_type": "code",
   "execution_count": 14,
   "metadata": {},
   "outputs": [],
   "source": [
    "client = AzureOpenAI(\n",
    "    api_key= api_key, #os.getenv(\"AZURE_OPENAI_API_KEY\"),  \n",
    "    api_version=\"2024-02-15-preview\",\n",
    "    azure_endpoint=api_base # os.getenv(\"AZURE_OPENAI_ENDPOINT\")\n",
    ")\n",
    "\n",
    "\n",
    "# Create an assistant\n",
    "assistant = client.beta.assistants.create(\n",
    "    name=\"Math Assist\",\n",
    "    instructions=\"you are a helpful assisatant that can help with math problems and other coding skills\",\n",
    "    tools=[{\"type\": \"code_interpreter\"}],\n",
    "    \n",
    "    model=deployment_name\n",
    ")\n"
   ]
  },
  {
   "cell_type": "code",
   "execution_count": 16,
   "metadata": {},
   "outputs": [],
   "source": [
    "DATA_FOLDER = \"data/\"\n",
    "\n",
    "\n",
    "def upload_file(client: AzureOpenAI, path: str) -> FileObject:\n",
    "    with Path(path).open(\"rb\") as f:\n",
    "        return client.files.create(file=f, purpose=\"assistants\")\n",
    "\n",
    "\n",
    "arr = os.listdir(DATA_FOLDER)\n",
    "assistant_files = []\n",
    "for file in arr:\n",
    "    filePath = DATA_FOLDER + file\n",
    "    assistant_files.append(upload_file(client, filePath))\n",
    "\n",
    "file_ids = [file.id for file in assistant_files]"
   ]
  },
  {
   "cell_type": "code",
   "execution_count": 17,
   "metadata": {},
   "outputs": [
    {
     "data": {
      "text/plain": [
       "['assistant-6kT9y3OcEUhwzyXkJViAv2m8']"
      ]
     },
     "execution_count": 17,
     "metadata": {},
     "output_type": "execute_result"
    }
   ],
   "source": [
    "file_ids"
   ]
  },
  {
   "cell_type": "code",
   "execution_count": 23,
   "metadata": {},
   "outputs": [
    {
     "name": "stdout",
     "output_type": "stream",
     "text": [
      "assistant-6kT9y3OcEUhwzyXkJViAv2m8\n",
      "sales.csv\n",
      "assistant-vlJmh7YUR6M8pWYy4Dxt0m0p\n",
      "sales.txt.txt\n"
     ]
    }
   ],
   "source": [
    "for f in client.files.list():\n",
    "    print(f.id)\n",
    "    print(f.filename)\n"
   ]
  },
  {
   "cell_type": "code",
   "execution_count": 26,
   "metadata": {},
   "outputs": [
    {
     "name": "stdout",
     "output_type": "stream",
     "text": [
      "asst_yDiYPSx7cUNuLkZeCgIsvykI\n",
      "Math Assist\n",
      "[]\n",
      "asst_fJXQSaNgL0d14ATuOLwPqGcJ\n",
      "Math Assist\n",
      "[]\n",
      "asst_muTxOw5OnxqyynS9OW8wkMcB\n",
      "Math Assist\n",
      "[]\n",
      "asst_sVWtfaAUTitZE9RYKpOJA6bc\n",
      "Math Assist\n",
      "[]\n",
      "asst_CzqNVyUQWDmDp3V3YyXXOUv9\n",
      "Math Assist\n",
      "[]\n",
      "asst_2yYIiMY2egSw02b6wHw4padW\n",
      "Math Assist\n",
      "[]\n",
      "asst_F5gKwGkysI4OSeDWaGhwGy8n\n",
      "salesdata\n",
      "['assistant-vlJmh7YUR6M8pWYy4Dxt0m0p']\n"
     ]
    }
   ],
   "source": [
    "for a in client.beta.assistants.list():\n",
    "    print(a.id)\n",
    "    print(a.name)\n",
    "    print(a.file_ids)\n",
    "\n",
    "    "
   ]
  },
  {
   "cell_type": "code",
   "execution_count": 27,
   "metadata": {},
   "outputs": [
    {
     "name": "stdout",
     "output_type": "stream",
     "text": [
      "Assistant(id='asst_yDiYPSx7cUNuLkZeCgIsvykI', created_at=1711083147, description=None, file_ids=[], instructions='you are a helpful assisatant that can help with math problems and other coding skills', metadata={}, model='gpt-4-default-aueast', name='Math Assist', object='assistant', tools=[CodeInterpreterTool(type='code_interpreter')])\n"
     ]
    }
   ],
   "source": []
  },
  {
   "cell_type": "code",
   "execution_count": null,
   "metadata": {},
   "outputs": [],
   "source": [
    "\n",
    "def my_python_tool(\n",
    "\n",
    "    input1: str, \n",
    "    aoaiconn : AzureOpenAIConnection, \n",
    "    deployment_name: str = \"gpt-4-default-aueast\",\n",
    "    ) -> str:\n",
    "\n",
    "    print(aoaiconn.api_base)\n",
    "\n",
    "    print(aoaiconn.api_key)\n",
    "\n",
    "    # rendered_prompt = Template(prompt, trim_blocks=True, keep_trailing_newline=True).render(**kwargs)\n",
    "\n",
    "\n",
    "\n",
    "\n",
    "    # Create an assistant\n",
    "    assistant = client.beta.assistants.create(\n",
    "        name=\"Math Assist\",\n",
    "        instructions=input1,\n",
    "        tools=[{\"type\": \"code_interpreter\"}],\n",
    "        model=deployment_name\n",
    "    )\n",
    "\n",
    "\n",
    "\n",
    "    # add a file to assistant \n",
    "    # client.beta.assistants.files.create(\n",
    "    #     assistant.id, \n",
    "\n",
    "    # )\n",
    "\n",
    "    # Create a thread\n",
    "    thread = client.beta.threads.create()\n",
    "\n",
    "    # Add a user question to the thread\n",
    "    message = client.beta.threads.messages.create(\n",
    "        thread_id=thread.id,\n",
    "        role=\"user\",\n",
    "        content=\"I need to solve the equation `3x + 11 = 14`. Can you help me?\"\n",
    "    )\n",
    "\n",
    "    # Run the thread\n",
    "    run = client.beta.threads.runs.create(\n",
    "        thread_id=thread.id,\n",
    "        assistant_id=assistant.id,\n",
    "    )\n",
    "\n",
    "    # Retrieve the status of the run\n",
    "    run = client.beta.threads.runs.retrieve(\n",
    "        thread_id=thread.id,\n",
    "        run_id=run.id\n",
    "    )\n",
    "\n",
    "    status = run.status\n",
    "\n",
    "    # Wait till the assistant has responded\n",
    "    while status not in [\"completed\", \"cancelled\", \"expired\", \"failed\"]:\n",
    "        time.sleep(5)\n",
    "        run = client.beta.threads.runs.retrieve(thread_id=thread.id,run_id=run.id)\n",
    "        status = run.status\n",
    "\n",
    "    messages = client.beta.threads.messages.list(\n",
    "        thread_id=thread.id\n",
    "    )\n",
    "\n",
    "\n",
    "# Prints the messages with the latest message at the bottom\n",
    "    number_of_messages = len(messages.data)\n",
    "    print( f'Number of messages: {number_of_messages}')\n",
    "\n",
    "    assistant_response = ''\n",
    "    for message in reversed(messages.data):\n",
    "        role = message.role  \n",
    "        for content in message.content:\n",
    "            if content.type == 'text':\n",
    "                response = content.text.value \n",
    "                print(f'\\n{role}: {response}')\n",
    "                if role == 'assistant':\n",
    "                    assistant_response = response  \n",
    "    \n",
    "    return assistant_response\n"
   ]
  }
 ],
 "metadata": {
  "kernelspec": {
   "display_name": "Python 3",
   "language": "python",
   "name": "python3"
  },
  "language_info": {
   "codemirror_mode": {
    "name": "ipython",
    "version": 3
   },
   "file_extension": ".py",
   "mimetype": "text/x-python",
   "name": "python",
   "nbconvert_exporter": "python",
   "pygments_lexer": "ipython3",
   "version": "3.10.13"
  }
 },
 "nbformat": 4,
 "nbformat_minor": 2
}
